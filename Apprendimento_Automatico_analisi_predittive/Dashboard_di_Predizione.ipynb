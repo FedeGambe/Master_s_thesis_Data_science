{
  "nbformat": 4,
  "nbformat_minor": 0,
  "metadata": {
    "colab": {
      "provenance": [],
      "collapsed_sections": [
        "t9Ob2pWANoT2",
        "Gp6BfhTOMBc-",
        "KXQqaeZXphWE",
        "Lrq3engiydFC",
        "hNEOQL672TpG"
      ]
    },
    "kernelspec": {
      "name": "python3",
      "display_name": "Python 3"
    },
    "language_info": {
      "name": "python"
    }
  },
  "cells": [
    {
      "cell_type": "markdown",
      "source": [
        "# **0. Import Librerie**"
      ],
      "metadata": {
        "id": "t9Ob2pWANoT2"
      }
    },
    {
      "cell_type": "code",
      "execution_count": 1,
      "metadata": {
        "colab": {
          "base_uri": "https://localhost:8080/"
        },
        "id": "5q_isK10NNP6",
        "outputId": "b3d17dce-9de8-4d19-9aba-dd3441d7b536"
      },
      "outputs": [
        {
          "output_type": "stream",
          "name": "stdout",
          "text": [
            "\u001b[2K   \u001b[90m━━━━━━━━━━━━━━━━━━━━━━━━━━━━━━━━━━━━━━━━\u001b[0m \u001b[32m13.5/13.5 MB\u001b[0m \u001b[31m17.5 MB/s\u001b[0m eta \u001b[36m0:00:00\u001b[0m\n",
            "\u001b[?25h1.6.0\n"
          ]
        }
      ],
      "source": [
        "!pip install scikit-learn==1.6.0 -q\n",
        "import sklearn\n",
        "print(sklearn.__version__)"
      ]
    },
    {
      "cell_type": "code",
      "source": [
        "import pandas as pd\n",
        "import numpy as np\n",
        "import urllib.request\n",
        "import joblib\n",
        "import plotly\n",
        "import plotly.graph_objects as go"
      ],
      "metadata": {
        "id": "cIg8Oqg_NbRt"
      },
      "execution_count": 2,
      "outputs": []
    },
    {
      "cell_type": "code",
      "source": [
        "!pip install dash -q # Added -q for quiet installation\n",
        "!pip install dash-bootstrap-components -q # Added -q for quiet installation\n",
        "\n",
        "import dash\n",
        "import dash_bootstrap_components as dbc\n",
        "from dash import dcc, html\n",
        "from dash.dependencies import Input, Output, State"
      ],
      "metadata": {
        "id": "AoIIWUH7NkRg",
        "colab": {
          "base_uri": "https://localhost:8080/",
          "height": 0
        },
        "outputId": "374646cf-c95f-4ca0-c364-b5832bd01675"
      },
      "execution_count": 3,
      "outputs": [
        {
          "output_type": "stream",
          "name": "stdout",
          "text": [
            "\u001b[2K   \u001b[90m━━━━━━━━━━━━━━━━━━━━━━━━━━━━━━━━━━━━━━━━\u001b[0m \u001b[32m7.8/7.8 MB\u001b[0m \u001b[31m46.5 MB/s\u001b[0m eta \u001b[36m0:00:00\u001b[0m\n",
            "\u001b[2K   \u001b[90m━━━━━━━━━━━━━━━━━━━━━━━━━━━━━━━━━━━━━━━━\u001b[0m \u001b[32m101.7/101.7 kB\u001b[0m \u001b[31m6.5 MB/s\u001b[0m eta \u001b[36m0:00:00\u001b[0m\n",
            "\u001b[2K   \u001b[90m━━━━━━━━━━━━━━━━━━━━━━━━━━━━━━━━━━━━━━━━\u001b[0m \u001b[32m228.0/228.0 kB\u001b[0m \u001b[31m11.7 MB/s\u001b[0m eta \u001b[36m0:00:00\u001b[0m\n",
            "\u001b[2K   \u001b[90m━━━━━━━━━━━━━━━━━━━━━━━━━━━━━━━━━━━━━━━━\u001b[0m \u001b[32m229.3/229.3 kB\u001b[0m \u001b[31m3.8 MB/s\u001b[0m eta \u001b[36m0:00:00\u001b[0m\n",
            "\u001b[?25h"
          ]
        }
      ]
    },
    {
      "cell_type": "markdown",
      "source": [
        "# **1. Dashboard di predizione: GB.c. e ANN.r.**\n",
        "\n",
        "Prima di utilizzare la dashboard per la predizione, assicurati di eseguire il Capitolo 0 per l'importazione delle librerie e il Capitolo 1 per la preparazione necessaria della dashboard.\n",
        "\n",
        "\n",
        "*   GB.c. = Modello Gradient Boosting completo\n",
        "*   ANN.r. = Modelo Artificial Neural Network ridotto\n",
        "\n"
      ],
      "metadata": {
        "id": "5beQBBauNqZM"
      }
    },
    {
      "cell_type": "markdown",
      "source": [
        "## 1.1. Dashboard modello Gradient Boosting Completo (GB.c.), *Acc. 0.67*"
      ],
      "metadata": {
        "id": "z56cqGNF9pyK"
      }
    },
    {
      "cell_type": "code",
      "source": [
        "# @title 1.1.1. Modelli e parametri da caricare per GB.c.\n",
        "\n",
        "'''\n",
        "drive_path = '/content/drive/MyDrive/Tesi/Machine Learning/Saved Model/Gradient Boosting/Dash/'\n",
        "accuracy_gb = joblib.load(drive_path + 'accuracy_gb.pkl')\n",
        "scaler = joblib.load(drive_path + 'scaler.joblib')\n",
        "poly = joblib.load(drive_path + 'poly.joblib')\n",
        "selector = joblib.load(drive_path + 'selector.joblib')\n",
        "loaded_model = joblib.load(drive_path + 'gradient_boosting_model.joblib')\n",
        "'''\n",
        "\n",
        "base_url = 'https://github.com/FedeGambe/Master_s_thesis_Data_science/raw/f94caa0c33c4716d7ebd6217502475a7f63bbdf3/Apprendimento_Automatico_analisi_predittive/Salvataggio_Modelli/Dash/Gradient_Boosting_Completo/'\n",
        "\n",
        "files = {'accuracy_gb.pkl': 'accuracy_gb',\n",
        "         'scaler.joblib': 'scaler',\n",
        "         'poly.joblib': 'poly',\n",
        "         'selector.joblib': 'selector',\n",
        "         'gradient_boosting_model.joblib': 'loaded_model'}\n",
        "\n",
        "for file_name, variable_name in files.items():  # scarica e carica ciascun file\n",
        "    file_url = base_url + file_name             # crea link x ogni file\n",
        "    file_path = f'/content/{file_name}'         # crea percorso in /content/ x ogni file\n",
        "\n",
        "    print(f\"Scaricando {file_name}...\")     # scarica il file\n",
        "    urllib.request.urlretrieve(file_url, file_path)\n",
        "\n",
        "    globals()[variable_name] = joblib.load(file_path)     # carica il modello\n",
        "    print(f\"{file_name} caricato come {variable_name}!\")\n",
        "\n",
        "print(\"\\nModelli caricati:\") # Verifica sia stato caricato correttamente\n",
        "print(f\"accuracy_gb: {type(accuracy_gb)}\")\n",
        "print(f\"scaler: {type(scaler)}\")\n",
        "print(f\"poly: {type(poly)}\")\n",
        "print(f\"selector: {type(selector)}\")\n",
        "print(f\"loaded_model: {type(loaded_model)}\")\n"
      ],
      "metadata": {
        "colab": {
          "base_uri": "https://localhost:8080/"
        },
        "id": "9U5HPLPRoS5M",
        "outputId": "2f54f0c3-ca21-4534-82f6-2e3c743fd3af"
      },
      "execution_count": 4,
      "outputs": [
        {
          "output_type": "stream",
          "name": "stdout",
          "text": [
            "Scaricando accuracy_gb.pkl...\n",
            "accuracy_gb.pkl caricato come accuracy_gb!\n",
            "Scaricando scaler.joblib...\n",
            "scaler.joblib caricato come scaler!\n",
            "Scaricando poly.joblib...\n",
            "poly.joblib caricato come poly!\n",
            "Scaricando selector.joblib...\n",
            "selector.joblib caricato come selector!\n",
            "Scaricando gradient_boosting_model.joblib...\n",
            "gradient_boosting_model.joblib caricato come loaded_model!\n",
            "\n",
            "Modelli caricati:\n",
            "accuracy_gb: <class 'float'>\n",
            "scaler: <class 'sklearn.preprocessing._data.StandardScaler'>\n",
            "poly: <class 'sklearn.preprocessing._polynomial.PolynomialFeatures'>\n",
            "selector: <class 'sklearn.feature_selection._univariate_selection.SelectKBest'>\n",
            "loaded_model: <class 'sklearn.ensemble._gb.GradientBoostingClassifier'>\n"
          ]
        }
      ]
    },
    {
      "cell_type": "code",
      "source": [
        "# @title 1.1.2. **Dashboard GB.c.**\n",
        "def preprocess_data(data):\n",
        "    scaled_data = scaler.transform(data)\n",
        "    poly_data = poly.transform(data)\n",
        "    selected_data = selector.transform(poly_data)\n",
        "    return selected_data\n",
        "\n",
        "app = dash.Dash(__name__, external_stylesheets=[dbc.themes.BOOTSTRAP])\n",
        "app.layout = dbc.Container([\n",
        "    html.H1(\"Dashboard di Predizione: modello GB\", className=\"text-center mt-4 mb-4\"),\n",
        "\n",
        "    dbc.Row([#VARIABILI DEMOGRAFICHE\n",
        "        dbc.Col([html.Label(\"Genere\"),dcc.Dropdown(id='genere',options=[{'label': 'Maschio', 'value': 0},{'label': 'Femmina', 'value': 1}],value=0, className='form-control'),], width=6, className='mb-3'),\n",
        "        dbc.Col([html.Label(\"Classe d'età\"),dcc.Dropdown(id='classe_eta',options=[\n",
        "                             {'label': '<25', 'value': 1},\n",
        "                             {'label': '25-34', 'value': 2},\n",
        "                             {'label': '35-44', 'value': 3},\n",
        "                             {'label': '45-54', 'value': 4},\n",
        "                             {'label': '54-64', 'value': 5},\n",
        "                             {'label': '65-74', 'value': 6},\n",
        "                             {'label': '75-79', 'value': 7},\n",
        "                             {'label': '>80', 'value': 8}\n",
        "                         ],value=1, className='form-control'),], width=6, className='mb-3'),\n",
        "        dbc.Col([html.Label(\"Reddito familiare\"),dcc.Dropdown(id='reddito',options=[\n",
        "                             {'label': '<50,000', 'value': 50000},\n",
        "                             {'label': '50,000 - 125,000', 'value': 125000},\n",
        "                             {'label': '125,001 - 175,000', 'value': 175000},\n",
        "                             {'label': '175,001 - 275,000', 'value': 275000},\n",
        "                             {'label': '275,001- 500,000', 'value': 500000}\n",
        "                         ], value=50000, className='form-control'),], width=6, className='mb-3'),\n",
        "        dbc.Col([html.Label(\"Livello di istruzione\"),dcc.Dropdown(id='istruzione',options=[\n",
        "                             {'label': 'Licenza Media', 'value': 1},\n",
        "                             {'label': 'Diploma', 'value': 2},\n",
        "                             {'label': 'Laurea Triennale', 'value': 3},\n",
        "                             {'label': 'Laurea Magistrale o Dottorato', 'value': 4},\n",
        "                         ], value=1, className='form-control'),], width=6, className='mb-3'),]),\n",
        "\n",
        "    dbc.Row([#VARIABILI ABITATIVE\n",
        "        dbc.Col([html.Label(\"Numero di auto in famiglia\"),dcc.Input(id='num_auto', type='number', value=1.0, min=1, max=6, className='form-control'),], width=6, className='mb-3'),\n",
        "        dbc.Col([html.Label(\"Numero di persone in famiglia\"),dcc.Input(id='num_pers', type='number', value=1.0, min=1, max=13, className='form-control'),], width=6, className='mb-3'),\n",
        "        dbc.Col([html.Label(\"Casa di proprietà\"),dcc.Dropdown(id='casa_prop',options=[{'label': 'No', 'value': 0}, {'label': 'Si', 'value': 1}],value=0, className='form-control'),], width=6, className='mb-3'),\n",
        "        dbc.Col([html.Label(\"Casa Indipendente\"),dcc.Dropdown(id='casa_ind',options=[{'label': 'No', 'value': 0}, {'label': 'Si', 'value': 1}],value=0, className='form-control'),], width=6, className='mb-3'),]),\n",
        "\n",
        "#SENSIBILITà AMBIENTALE\n",
        "    dbc.Row([dbc.Col([html.Label(\"Importanza di ridurre le emissioni di gas serra\"),dcc.Slider(id='rid_emissioni', min=-3, max=3, step=0.1, value=0, marks={i: str(i) for i in range(-3,4)}, className='form-control'),], width=12, className='mb-3'),]),\n",
        "\n",
        "    dbc.Row([#TIPOLOGIA DI AUTO\n",
        "        dbc.Col([html.Label(\"Tipologia di auto precedente: ICE\"),dcc.Dropdown(id='ice',options=[{'label': 'No', 'value': 0},{'label': 'Sì', 'value': 1}],value=0, className='form-control'),], width=4, className='mb-3'),\n",
        "        dbc.Col([html.Label(\"Tipologia di auto precedente: BEV\"),dcc.Dropdown(id='bev',options=[{'label': 'No', 'value': 0},{'label': 'Sì', 'value': 1}],value=0, className='form-control'),], width=4, className='mb-3'),\n",
        "        dbc.Col([html.Label(\"Tipologia di auto precedente: HEV\"),dcc.Dropdown(id='hev',options=[{'label': 'No', 'value': 0},{'label': 'Sì', 'value': 1}],value=0, className='form-control'),], width=4, className='mb-3'),\n",
        "        dbc.Col([html.Label(\"Tipologia di auto precedente: PHEV\"),dcc.Dropdown(id='phev',options=[{'label': 'No', 'value': 0},{'label': 'Sì', 'value': 1}],value=0, className='form-control'),], width=4, className='mb-3'),\n",
        "        dbc.Col([html.Label(\"Tipologia di auto precedente: GNC\"),dcc.Dropdown(id='gnc',options=[{'label': 'No', 'value': 0}, {'label': 'Sì', 'value': 1}],value=0, className='form-control'),], width=4, className='mb-3'),]),\n",
        "\n",
        "    dbc.Row([#VARIABILI MOBILITà\n",
        "        dbc.Col([html.Label(\"Numero di viaggi superiori a 200 miglia negli ultimi 12 mesi\"),dcc.Input(id='num_viaggi', type='number', value=0.0, min=0, max=65, className='form-control'),], width=6, className='mb-3'),\n",
        "        dbc.Col([html.Label(\"Viaggio più lungo negli ultimi 12 mesi\"),dcc.Input(id='viaggio_lungo', type='number', value=0,min=0, max=4800, className='form-control'),], width=6, className='mb-3'),\n",
        "        dbc.Col([html.Label(\"Distanza casa-lavoro\"),dcc.Input(id='distanza_lavoro', type='number', value=0.0, min=0, max=300, className='form-control'),], width=6, className='mb-3'),\n",
        "        dbc.Col([html.Label(\"VMT annuo\"),dcc.Input(id='vmt_annuo', type='number', value=0.0, min=0, max=100000, className='form-control'),], width=6, className='mb-3')]),\n",
        "\n",
        "    #html.Div(id='debug-output', className='mt-4 text-center'),\n",
        "    #html.Div([dbc.Button('Genera Predizione', id='predict-button', n_clicks=0, color='primary', className='mt-4'),html.Div(id='prediction-output', className='mt-4 text-center'),dcc.Graph(id='prediction-graph', config={'displayModeBar': False}),])\n",
        "    html.Div([\n",
        "        dbc.Row([dbc.Col(dbc.Button('Genera Predizione', id='predict-button', n_clicks=0, color='primary', className='mt-4'),width={'size': 6, 'offset': 3},className=\"text-center\")]),\n",
        "        html.Div(id='prediction-output', className='mt-4 text-center'),\n",
        "        dcc.Graph(id='prediction-graph', config={'displayModeBar': False})]),\n",
        "], fluid=True)\n",
        "\n",
        "@app.callback(\n",
        "    [Output('prediction-output', 'children'),\n",
        "     Output('prediction-graph', 'figure')],\n",
        "    [Input('predict-button', 'n_clicks')],\n",
        "    [\n",
        "        State('num_viaggi', 'value'),\n",
        "        State('vmt_annuo', 'value'),\n",
        "        State('reddito', 'value'),\n",
        "        State('bev', 'value'),\n",
        "        State('rid_emissioni', 'value'),\n",
        "        State('classe_eta', 'value'),\n",
        "        State('viaggio_lungo', 'value'),\n",
        "        State('distanza_lavoro', 'value'),\n",
        "        State('num_auto', 'value'),\n",
        "        State('genere', 'value'),\n",
        "        State('ice', 'value'),\n",
        "        State('hev', 'value'),\n",
        "        State('istruzione', 'value'),\n",
        "        State('num_pers', 'value'),\n",
        "        State('casa_prop', 'value'),\n",
        "        State('casa_ind', 'value'),\n",
        "        State('phev', 'value'),\n",
        "        State('gnc', 'value')\n",
        "    ]\n",
        ")\n",
        "def update_prediction(n_clicks, num_viaggi, vmt_annuo, reddito, bev, rid_emissioni, classe_eta, viaggio_lungo, distanza_lavoro, num_auto, genere, ice, hev, istruzione, num_pers, casa_prop, casa_ind, phev, gnc):\n",
        "    if n_clicks > 0:\n",
        "        try:\n",
        "            new_data = np.array([[num_viaggi, vmt_annuo, reddito, bev, rid_emissioni, classe_eta, viaggio_lungo, distanza_lavoro, num_auto, genere, ice, hev, istruzione, num_pers, casa_prop, casa_ind, phev, gnc]]).reshape(1, -1)\n",
        "            new_data_processed = preprocess_data(new_data)\n",
        "\n",
        "            probability = loaded_model.predict_proba(new_data_processed)[0]             # Calcola la probabilità con il modello\n",
        "\n",
        "            predicted_class = np.argmax(probability)             # Determina la classe con la probabilità più alta\n",
        "            predicted_probability = probability[predicted_class]\n",
        "\n",
        "            classes = ['Classe 0', 'Classe 1']             # Crea il grafico delle probabilità\n",
        "            figure = go.Figure(data=[go.Bar(x=classes, y=probability, marker_color=['blue', 'orange'])])\n",
        "            figure.update_layout(title='Predizione delle Classi', xaxis_title='Classe', yaxis_title='Probabilità')\n",
        "\n",
        "            return f'Accuratezza predizione: {(accuracy_gb * 100):.2f} %, Classe Predetta: {predicted_class} con una probabilità del {predicted_probability * 100:.2f}%', figure\n",
        "        except Exception as e:\n",
        "            return f\"Si è verificato un errore durante la predizione: {e}\", go.Figure()\n",
        "    return 'Inserisci i valori delle variabili e premi il pulsante per generare la predizione.', go.Figure()\n",
        "\n",
        "#####___________________Mutua Esclusività\n",
        "@app.callback(\n",
        "    [Output('ice', 'value'), Output('bev', 'value'), Output('hev', 'value')],\n",
        "    [Input('ice', 'value'), Input('bev', 'value'), Input('hev', 'value')],\n",
        "    prevent_initial_call=True\n",
        ")\n",
        "def handle_exclusivity(ice, bev, hev):\n",
        "    ctx = dash.callback_context\n",
        "    if not ctx.triggered:\n",
        "        return ice, bev, hev\n",
        "    triggered_id = ctx.triggered[0]['prop_id'].split('.')[0]\n",
        "    if triggered_id == 'ice' and ice == 1:\n",
        "        return ice, 0, 0\n",
        "    elif triggered_id == 'bev' and bev == 1:\n",
        "        return 0, bev, 0\n",
        "    elif triggered_id == 'hev' and hev == 1:\n",
        "        return 0, 0, hev\n",
        "    return ice, bev, hev\n",
        "\n",
        "if __name__ == '__main__':\n",
        "    app.run_server(debug=True)"
      ],
      "metadata": {
        "colab": {
          "base_uri": "https://localhost:8080/",
          "height": 671
        },
        "id": "hyCn5nVM6X3c",
        "outputId": "f2999920-d9e8-437d-d648-c61bc4e8e051",
        "cellView": "form"
      },
      "execution_count": 7,
      "outputs": [
        {
          "output_type": "display_data",
          "data": {
            "text/plain": [
              "<IPython.core.display.Javascript object>"
            ],
            "application/javascript": [
              "(async (port, path, width, height, cache, element) => {\n",
              "    if (!google.colab.kernel.accessAllowed && !cache) {\n",
              "      return;\n",
              "    }\n",
              "    element.appendChild(document.createTextNode(''));\n",
              "    const url = await google.colab.kernel.proxyPort(port, {cache});\n",
              "    const iframe = document.createElement('iframe');\n",
              "    iframe.src = new URL(path, url).toString();\n",
              "    iframe.height = height;\n",
              "    iframe.width = width;\n",
              "    iframe.style.border = 0;\n",
              "    iframe.allow = [\n",
              "        'accelerometer',\n",
              "        'autoplay',\n",
              "        'camera',\n",
              "        'clipboard-read',\n",
              "        'clipboard-write',\n",
              "        'gyroscope',\n",
              "        'magnetometer',\n",
              "        'microphone',\n",
              "        'serial',\n",
              "        'usb',\n",
              "        'xr-spatial-tracking',\n",
              "    ].join('; ');\n",
              "    element.appendChild(iframe);\n",
              "  })(8050, \"/\", \"100%\", 650, false, window.element)"
            ]
          },
          "metadata": {}
        }
      ]
    },
    {
      "cell_type": "markdown",
      "source": [
        "## 1.2. Dashboard modello ANN Ridotto (ANN.r.), *Acc. 0.65*"
      ],
      "metadata": {
        "id": "Gp6BfhTOMBc-"
      }
    },
    {
      "cell_type": "code",
      "source": [
        "# @title Modelli e parametri da caricare per ANN.r.\n",
        "from tensorflow.keras.models import load_model\n",
        "from tensorflow.keras.layers import LeakyReLU\n",
        "\n",
        "drive_path = '/content/drive/MyDrive/Tesi/Machine Learning/Saved Model/Tensorflow/Model_Reduced_FE/'\n",
        "scaler = joblib.load(drive_path + 'scaler.pkl')\n",
        "poly = joblib.load(drive_path + 'poly.pkl')\n",
        "selector = joblib.load(drive_path + 'selector.pkl')\n",
        "drive_path1 = '/content/drive/MyDrive/Tesi/Machine Learning/Saved Model/Tensorflow/'\n",
        "model = load_model(drive_path1 + 'model2_rid_full_model.keras', custom_objects={'LeakyReLU': LeakyReLU(negative_slope=0.3)})"
      ],
      "metadata": {
        "cellView": "form",
        "id": "Qqjb8ls_Z7JR"
      },
      "execution_count": null,
      "outputs": []
    },
    {
      "cell_type": "code",
      "source": [
        "# @title Dashboard ANN.r.\n",
        "# Funzione per la pre-elaborazione dei dati\n",
        "def preprocess_data(data):\n",
        "    scaled_data = scaler.transform(data)\n",
        "    poly_data = poly.transform(scaled_data)\n",
        "    selected_data = selector.transform(poly_data)\n",
        "    return selected_data\n",
        "\n",
        "# Inizializza l'app Dash\n",
        "app_ann = dash.Dash(__name__, external_stylesheets=[dbc.themes.BOOTSTRAP])\n",
        "\n",
        "# Layout dell'app\n",
        "app_ann.layout = dbc.Container([\n",
        "    html.H1(\"Dashboard di Predizione: modello ANN ridotto\", className=\"text-center mt-4 mb-4\"),\n",
        "    dbc.Row([\n",
        "        dbc.Col([html.Label(\"Genere\"),dcc.Dropdown(id='genere',\n",
        "                options=[\n",
        "                    {'label': 'Maschio', 'value': 0},\n",
        "                    {'label': 'Femmina', 'value': 1}\n",
        "                ],value=0, className='form-control'),], width=6, className='mb-3'),\n",
        "        dbc.Col([html.Label(\"Classe d'età\"),dcc.Dropdown(id='classe_eta',\n",
        "                options=[\n",
        "                    {'label': '>25', 'value': 1},\n",
        "                    {'label': '25-34', 'value': 2},\n",
        "                    {'label': '35-44', 'value': 3},\n",
        "                    {'label': '45-54', 'value': 4},\n",
        "                    {'label': '54-64', 'value': 5},\n",
        "                    {'label': '65-74', 'value': 6},\n",
        "                    {'label': '75-79', 'value': 7},\n",
        "                    {'label': '>80', 'value': 8}\n",
        "                ],value=1, className='form-control'),], width=6, className='mb-3'),]),\n",
        "    dbc.Row([\n",
        "        dbc.Col([html.Label(\"Reddito familiare\"),dcc.Dropdown(id='reddito',\n",
        "                options=[\n",
        "                    {'label': '>50,000', 'value': 50000},\n",
        "                    {'label': '50,000 - 125,000', 'value': 125000},\n",
        "                    {'label': '125,001 - 175,000', 'value': 175000},\n",
        "                    {'label': '175,001 - 275,000', 'value': 275000},\n",
        "                    {'label': '275,001- 500,000', 'value': 500000}\n",
        "                ],value=50000, className='form-control'),], width=6, className='mb-3'),\n",
        "        dbc.Col([html.Label(\"Numero di auto in famiglia\"),dcc.Input(id='num_auto', type='number', value=1.0, className='form-control'),], width=6, className='mb-3'),]),\n",
        "    dbc.Row([\n",
        "        dbc.Col([html.Label(\"Tipologia di auto precedente: ICE\"),dcc.Dropdown(id='ice',\n",
        "                options=[\n",
        "                    {'label': 'No', 'value': 0},\n",
        "                    {'label': 'Sì', 'value': 1}\n",
        "                ],value=0, className='form-control'),], width=4, className='mb-3'),\n",
        "        dbc.Col([html.Label(\"Tipologia di auto precedente: BEV\"),dcc.Dropdown(id='bev',\n",
        "                options=[\n",
        "                    {'label': 'No', 'value': 0},\n",
        "                    {'label': 'Sì', 'value': 1}\n",
        "                ],value=0, className='form-control'),], width=4, className='mb-3'),\n",
        "        dbc.Col([html.Label(\"Tipologia di auto precedente: HEV\"),dcc.Dropdown(id='hev',\n",
        "                options=[\n",
        "                    {'label': 'No', 'value': 0},\n",
        "                    {'label': 'Sì', 'value': 1}\n",
        "                ],value=0, className='form-control'),], width=4, className='mb-3'), ]),\n",
        "\n",
        "#SENSIBILITà AMBIENTALE\n",
        "    dbc.Row([dbc.Col([html.Label(\"Importanza di ridurre le emissioni di gas serra\"),dcc.Slider(id='rid_emissioni', min=-3, max=3, step=0.1, value=0.0, marks={i: str(i) for i in range(-3,4)}, className='form-control'),], width=12, className='mb-3'),]),\n",
        "    dbc.Row([\n",
        "        dbc.Col([html.Label(\"Numero di viaggi superiori a 200 miglia negli ultimi 12 mesi\"),dcc.Input(id='num_viaggi', type='number', value=0.0, className='form-control'),], width=6, className='mb-3'),\n",
        "        dbc.Col([html.Label(\"Viaggio più lungo negli ultimi 12 mesi\"),dcc.Input(id='viaggio_lungo', type='number', value=0.210, className='form-control'),], width=6, className='mb-3'),]),\n",
        "    dbc.Row([\n",
        "        dbc.Col([html.Label(\"Distanza casa-lavoro\"),dcc.Input(id='distanza_lavoro', type='number', value=0.0, className='form-control'),], width=6, className='mb-3'),\n",
        "        dbc.Col([html.Label(\"VMT annuo\"),dcc.Input(id='vmt_annuo', type='number', value=0.0, className='form-control'),], width=6, className='mb-3')]),\n",
        "    html.Div([\n",
        "        dbc.Button('Genera Predizione', id='predict-button', n_clicks=0, color='primary', className='mt-4'),\n",
        "        html.Div(id='prediction-output', className='mt-4 text-center'),\n",
        "        dcc.Graph(id='prediction-graph', config={'displayModeBar': False}),])\n",
        "], fluid=True)\n",
        "\n",
        "# Callback per generare la predizione e aggiornare il grafico\n",
        "@app_ann.callback(\n",
        "    [Output('prediction-output', 'children'),\n",
        "     Output('prediction-graph', 'figure')],\n",
        "    [Input('predict-button', 'n_clicks')],\n",
        "    [State('num_viaggi', 'value'),\n",
        "     State('vmt_annuo', 'value'),\n",
        "     State('reddito', 'value'),\n",
        "     State('bev', 'value'),\n",
        "     State('rid_emissioni', 'value'),\n",
        "     State('classe_eta', 'value'),\n",
        "     State('viaggio_lungo', 'value'),\n",
        "     State('distanza_lavoro', 'value'),\n",
        "     State('num_auto', 'value'),\n",
        "     State('genere', 'value'),\n",
        "     State('ice', 'value'),\n",
        "     State('hev', 'value')])\n",
        "\n",
        "def update_prediction(n_clicks, num_viaggi, vmt_annuo, reddito, bev, rid_emissioni, classe_eta, viaggio_lungo, distanza_lavoro, num_auto, genere, ice, hev):\n",
        "    if n_clicks > 0:\n",
        "        try:\n",
        "            new_data = np.array([[num_viaggi, vmt_annuo, reddito, bev, rid_emissioni, classe_eta, viaggio_lungo, distanza_lavoro, num_auto, genere, ice, hev]])\n",
        "            new_data_processed = preprocess_data(new_data)\n",
        "            prediction = model.predict(new_data_processed)[0][0]\n",
        "\n",
        "            # Creare il grafico delle predizioni\n",
        "            classes = ['Classe 0', 'Classe 1']\n",
        "            values = [1 - prediction, prediction]\n",
        "            figure = go.Figure(data=[\n",
        "                go.Bar(x=classes, y=values, marker_color=['blue', 'orange'])\n",
        "            ])\n",
        "            figure.update_layout(title='Predizione delle Classi', xaxis_title='Classe', yaxis_title='Probabilità')\n",
        "\n",
        "            return f'Predizione: {prediction}', figure\n",
        "        except Exception as e:\n",
        "            return f\"Si è verificato un errore durante la predizione: {e}\", go.Figure()\n",
        "    return 'Inserisci i valori delle variabili e premi il pulsante per generare la predizione.', go.Figure()\n",
        "\n",
        "\n",
        "# Callback per gestire la mutua esclusività delle variabili \"Tipologia di auto precedente\"\n",
        "@app_ann.callback(\n",
        "    [Output('ice', 'value'), Output('bev', 'value'), Output('hev', 'value')],\n",
        "    [Input('ice', 'value'), Input('bev', 'value'), Input('hev', 'value')],\n",
        "    prevent_initial_call=True\n",
        ")\n",
        "def handle_exclusivity(ice, bev, hev):\n",
        "    ctx = dash.callback_context\n",
        "\n",
        "    if not ctx.triggered:\n",
        "        return ice, bev, hev\n",
        "\n",
        "    triggered_id = ctx.triggered[0]['prop_id'].split('.')[0]\n",
        "\n",
        "    if triggered_id == 'ice' and ice == 1:\n",
        "        return ice, 0, 0\n",
        "    elif triggered_id == 'bev' and bev == 1:\n",
        "        return 0, bev, 0\n",
        "    elif triggered_id == 'hev' and hev == 1:\n",
        "        return 0, 0, hev\n",
        "    return ice, bev, hev\n",
        "\n",
        "# Esegui l'app Dash\n",
        "if __name__ == '__main__':\n",
        "    app_ann.run_server(debug=True)"
      ],
      "metadata": {
        "colab": {
          "base_uri": "https://localhost:8080/",
          "height": 671
        },
        "id": "9zvxmn6BML4a",
        "outputId": "62ee4da4-6d71-49f0-c0e3-0f33e87b431b",
        "cellView": "form"
      },
      "execution_count": null,
      "outputs": [
        {
          "output_type": "display_data",
          "data": {
            "text/plain": [
              "<IPython.core.display.Javascript object>"
            ],
            "application/javascript": [
              "(async (port, path, width, height, cache, element) => {\n",
              "    if (!google.colab.kernel.accessAllowed && !cache) {\n",
              "      return;\n",
              "    }\n",
              "    element.appendChild(document.createTextNode(''));\n",
              "    const url = await google.colab.kernel.proxyPort(port, {cache});\n",
              "    const iframe = document.createElement('iframe');\n",
              "    iframe.src = new URL(path, url).toString();\n",
              "    iframe.height = height;\n",
              "    iframe.width = width;\n",
              "    iframe.style.border = 0;\n",
              "    iframe.allow = [\n",
              "        'accelerometer',\n",
              "        'autoplay',\n",
              "        'camera',\n",
              "        'clipboard-read',\n",
              "        'clipboard-write',\n",
              "        'gyroscope',\n",
              "        'magnetometer',\n",
              "        'microphone',\n",
              "        'serial',\n",
              "        'usb',\n",
              "        'xr-spatial-tracking',\n",
              "    ].join('; ');\n",
              "    element.appendChild(iframe);\n",
              "  })(8050, \"/\", \"100%\", 650, false, window.element)"
            ]
          },
          "metadata": {}
        }
      ]
    },
    {
      "cell_type": "markdown",
      "metadata": {
        "id": "KXQqaeZXphWE"
      },
      "source": [
        "# **2. Preparazione dataset per ventuale verifica** (non avviare)"
      ]
    },
    {
      "cell_type": "markdown",
      "metadata": {
        "id": "Lrq3engiydFC"
      },
      "source": [
        "##1.1. Importazione Dati"
      ]
    },
    {
      "cell_type": "code",
      "source": [
        "from sklearn.preprocessing import StandardScaler, LabelEncoder, PolynomialFeatures\n",
        "from sklearn.feature_selection import SelectKBest, f_classif\n",
        "from sklearn.model_selection import train_test_split, GridSearchCV, cross_val_score, cross_val_predict, StratifiedKFold, KFold, cross_validate, learning_curve\n",
        "from sklearn.metrics import accuracy_score, classification_report, confusion_matrix, roc_auc_score, roc_curve, auc, precision_recall_curve, f1_score, precision_score, recall_score"
      ],
      "metadata": {
        "id": "AlMThMzRXJMo"
      },
      "execution_count": null,
      "outputs": []
    },
    {
      "cell_type": "code",
      "execution_count": null,
      "metadata": {
        "id": "H2kfWzQ8w49W",
        "colab": {
          "base_uri": "https://localhost:8080/"
        },
        "outputId": "fe46b1ce-115d-4b30-c2b4-39dead58ccb6"
      },
      "outputs": [
        {
          "output_type": "stream",
          "name": "stdout",
          "text": [
            "\"Genere\"\n",
            "\"Classe d'età\"\n",
            "\"Reddito familiare\"\n",
            "\"Classe Reddito Familiare\"\n",
            "\"Livello di istruzione\"\n",
            "\"Casa di proprietà\"\n",
            "\"Casa Indipendente\"\n",
            "\"Numero persone in famiglia\"\n",
            "\"Numero di auto in famiglia\"\n",
            "\"Importanza di ridurre le emissioni di gas serra\"\n",
            "\"Tipologia di auto precedente\"\n",
            "\"Auto attuale\"\n",
            "\"Tipologia di auto attuale\"\n",
            "\"BEV dummy\"\n",
            "\"Viaggio più lungo negli ultimi 12 mesi\"\n",
            "\"Numero di viaggi superiori a 200 miglia negli ultimi 12 mesi\"\n",
            "\"Distanza casa-lavoro\"\n",
            "\"VMT annuo\"\n"
          ]
        }
      ],
      "source": [
        "data= pd.read_csv(\"/content/drive/MyDrive/Tesi/dataset_originale.csv\", sep=\",\")\n",
        "\n",
        "for col in data.columns:\n",
        "    print(f'\"{col}\"')"
      ]
    },
    {
      "cell_type": "code",
      "source": [
        "data = data.drop([\"Auto attuale\", \"Tipologia di auto attuale\"\n",
        "                  ], axis=1)"
      ],
      "metadata": {
        "id": "2TZLgxWjN5qp"
      },
      "execution_count": null,
      "outputs": []
    },
    {
      "cell_type": "code",
      "execution_count": null,
      "metadata": {
        "id": "0c7wy3PQxewu",
        "colab": {
          "base_uri": "https://localhost:8080/"
        },
        "outputId": "fae039a2-ce07-42a0-acb9-765d60424bf9"
      },
      "outputs": [
        {
          "output_type": "stream",
          "name": "stdout",
          "text": [
            "Genere ['Maschio' 'Femmina']\n",
            "Classe d'età ['65-74' '55-64' '75-79' '45-54' '35-44' '<25' '25-34' '>80']\n",
            "Classe Reddito Familiare ['Molto alta' 'Media' 'Alta' 'Estremamente alta' 'Bassa']\n",
            "Livello di istruzione ['Laurea 1L' 'Laurea 2L o Dottorato' 'Diploma o Qualifica professionale'\n",
            " 'Licenza Media']\n",
            "Casa di proprietà ['Si' 'No']\n",
            "Casa Indipendente ['Si' 'No']\n",
            "Tipologia di auto precedente ['PHEV' 'HEV' 'ICE' 'BEV' 'GNC']\n"
          ]
        }
      ],
      "source": [
        "for col in data.select_dtypes(include=['object']).columns:\n",
        "    unique_col = data[col].unique()\n",
        "    print(col, unique_col)"
      ]
    },
    {
      "cell_type": "code",
      "execution_count": null,
      "metadata": {
        "id": "qeiO0a2V1gTA"
      },
      "outputs": [],
      "source": [
        "Genere_mapping = {'Maschio':1, 'Femmina':0}\n",
        "Eta_mapping = {'<25': 1, '25-34':2, '35-44':3, '45-54':4, '55-64':5, '65-74':6, '75-79':7, '>80':8}\n",
        "Isruzione_mapping = {'Licenza Media':1, 'Diploma o Qualifica professionale':2, 'Laurea 1L':3, 'Laurea 2L o Dottorato':4}\n",
        "Reddito_mapping = {'Bassa':1, 'Media':2, 'Alta':3, 'Molto alta':4, 'Estremamente alta':5}\n",
        "casapro_mapping = {'Si':1, 'No':0}\n",
        "casaind_mapping = {'Si':1, 'No':0}\n",
        "#autoprec_mapping = {'PHEV':1, 'BEV':2, 'HEV':3, 'ICE':4, 'GNC':5}\n",
        "\n",
        "data['Genere'] = data['Genere'].map(Genere_mapping).values\n",
        "data[\"Classe d'età\"] = data[\"Classe d'età\"].map(Eta_mapping).values\n",
        "data['Livello di istruzione'] = data['Livello di istruzione'].map(Isruzione_mapping).values\n",
        "data['Classe Reddito Familiare'] = data['Classe Reddito Familiare'].map(Reddito_mapping).values\n",
        "data['Casa di proprietà'] = data['Casa di proprietà'].map(casapro_mapping).values\n",
        "data['Casa Indipendente'] = data['Casa Indipendente'].map(casaind_mapping).values\n",
        "\n",
        "data['Tipologia di auto precedente: PHEV'] = (data['Tipologia di auto precedente'] == 'PHEV').astype(int)\n",
        "data['Tipologia di auto precedente: BEV'] = (data['Tipologia di auto precedente'] == 'BEV').astype(int)\n",
        "data['Tipologia di auto precedente: HEV'] = (data['Tipologia di auto precedente'] == 'HEV').astype(int)\n",
        "data['Tipologia di auto precedente: ICE'] = (data['Tipologia di auto precedente'] == 'ICE').astype(int)\n",
        "data['Tipologia di auto precedente: GNC'] = (data['Tipologia di auto precedente'] == 'GNC').astype(int)\n",
        "\n",
        "data = data.drop('Tipologia di auto precedente', axis=1)\n",
        "data = data.drop(\"Classe Reddito Familiare\", axis=1)"
      ]
    },
    {
      "cell_type": "code",
      "execution_count": null,
      "metadata": {
        "id": "psGWd1LTcg71"
      },
      "outputs": [],
      "source": [
        "y = data['BEV dummy']\n",
        "X = data.drop(columns=['BEV dummy'])\n",
        "\n",
        "X_train, X_test, y_train, y_test = train_test_split(X, y, test_size=0.2,random_state=343)"
      ]
    },
    {
      "cell_type": "code",
      "execution_count": null,
      "metadata": {
        "id": "MVHw6Z_9B5hI"
      },
      "outputs": [],
      "source": [
        "sc = StandardScaler()\n",
        "X_train = sc.fit_transform(X_train)\n",
        "X_test = sc.fit_transform(X_test)"
      ]
    },
    {
      "cell_type": "code",
      "execution_count": null,
      "metadata": {
        "id": "S8mjxYfw5NCX",
        "colab": {
          "base_uri": "https://localhost:8080/"
        },
        "outputId": "edb05d2c-a423-4fb9-c3cf-f6930d8d1696"
      },
      "outputs": [
        {
          "output_type": "execute_result",
          "data": {
            "text/plain": [
              "(8550, 18)"
            ]
          },
          "metadata": {},
          "execution_count": 20
        }
      ],
      "source": [
        "X_train.shape"
      ]
    },
    {
      "cell_type": "code",
      "execution_count": null,
      "metadata": {
        "id": "DAx733oj5Zp8",
        "colab": {
          "base_uri": "https://localhost:8080/"
        },
        "outputId": "ec479d32-f4bd-417a-8c73-756fa3c2f15b"
      },
      "outputs": [
        {
          "output_type": "execute_result",
          "data": {
            "text/plain": [
              "(2138, 18)"
            ]
          },
          "metadata": {},
          "execution_count": 21
        }
      ],
      "source": [
        "X_test.shape"
      ]
    },
    {
      "cell_type": "markdown",
      "source": [
        "## 1.2. Preparazione modello Gradient Boosting"
      ],
      "metadata": {
        "id": "hNEOQL672TpG"
      }
    },
    {
      "cell_type": "code",
      "source": [
        "###Preprocessing e Feature Engineering\n",
        "scaler = StandardScaler()\n",
        "X_scaled = scaler.fit_transform(X)\n",
        "poly = PolynomialFeatures(degree=2, include_bias=False)\n",
        "X_poly = poly.fit_transform(X_scaled)\n",
        "\n",
        "selector = SelectKBest(score_func=f_classif, k='all')\n",
        "X_selected = selector.fit_transform(X_poly, y)\n",
        "X_train, X_test, y_train, y_test = train_test_split(X_poly, y, test_size=0.2, random_state=42)"
      ],
      "metadata": {
        "id": "XtA6HRr6TAHZ"
      },
      "execution_count": null,
      "outputs": []
    },
    {
      "cell_type": "code",
      "source": [
        "from sklearn.ensemble import GradientBoostingClassifier\n",
        "gb = GradientBoostingClassifier(learning_rate=0.05, max_depth=3, min_samples_split=5, n_estimators=200, subsample=0.7)\n",
        "gb.fit(X_train, y_train)\n",
        "predictions = gb.predict(X_test)\n",
        "accuracy_gb = accuracy_score(y_test, predictions)\n",
        "print(f'Accuracy: {accuracy_gb:.2f}')"
      ],
      "metadata": {
        "colab": {
          "base_uri": "https://localhost:8080/"
        },
        "id": "fF_U4BHOTUit",
        "outputId": "4a057012-f0c8-462e-f24a-184329e1e2c1"
      },
      "execution_count": null,
      "outputs": [
        {
          "output_type": "stream",
          "name": "stdout",
          "text": [
            "Accuracy: 0.67\n"
          ]
        }
      ]
    }
  ]
}